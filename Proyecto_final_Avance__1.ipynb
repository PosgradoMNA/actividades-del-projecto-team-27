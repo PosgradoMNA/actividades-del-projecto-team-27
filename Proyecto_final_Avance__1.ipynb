{
  "nbformat": 4,
  "nbformat_minor": 0,
  "metadata": {
    "colab": {
      "provenance": [],
      "authorship_tag": "ABX9TyMXHavJ2sqXV8gfDA7d3TCE",
      "include_colab_link": true
    },
    "kernelspec": {
      "name": "python3",
      "display_name": "Python 3"
    },
    "language_info": {
      "name": "python"
    }
  },
  "cells": [
    {
      "cell_type": "markdown",
      "metadata": {
        "id": "view-in-github",
        "colab_type": "text"
      },
      "source": [
        "<a href=\"https://colab.research.google.com/github/PosgradoMNA/actividades-del-projecto-team-27/blob/main/Proyecto_final_Avance__1.ipynb\" target=\"_parent\"><img src=\"https://colab.research.google.com/assets/colab-badge.svg\" alt=\"Open In Colab\"/></a>"
      ]
    },
    {
      "cell_type": "markdown",
      "source": [
        "# **Banking Crisis and Exports Datasets**\n",
        "\n",
        "Organización que lo generó: The World Bank Development Research Group Trade and Integration Team\n",
        "\n",
        "Source: https://datacatalog.worldbank.org/search/dataset/0041188\n",
        "\n",
        "El dataset contiene datos económicos de las crisis bancarias que presentaron 23 bancos de diversos países, incluyendo países desarrollados y subdesarrollados, así mismo como datos de las exportaciones de ciertos sectores para el periodo de 1980-2007. \n",
        "\n",
        "Preguntas que podríamos resolver con el análisis profundo de este dataset:\n",
        "\n",
        "1.   ¿Qué productos/sectores dependen fuertemente del financimiento o servicios bancarios para la exportación?\n",
        "2.   ¿Hay algún sector que no influya en sus exportaciones las crisis bancarias?\n",
        "3.   ¿Qué relación tiene la demanda de productos cuando ocurren crisis financieras?\n",
        "4.   ¿Se puede predecir los volúmenes de exportaciones en escenarios de recesión/crisis económica?\n",
        "5.   ¿Las peores crisis financieras tienen mayor inferencia en las exportaciones vs crisis financieras no tan profundas?\n",
        "6.   ¿El impacto de las limitaciones financieras durante las crisis es mayor o menor en países con un PIB más alto?\n",
        "7.   ¿Todas las regiones tienen el mismo impacto en las exportaciones cuando hay alguna crisis bancaria o existe una gran diferencia en región vs otra?\n",
        "8.   ¿Qué tanta influencia tiene el GDP per capita con el volumen de exportaciones?"
      ],
      "metadata": {
        "id": "oqMyTkm-4FF3"
      }
    }
  ]
}