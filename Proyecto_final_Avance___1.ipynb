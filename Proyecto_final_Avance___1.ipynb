{
  "nbformat": 4,
  "nbformat_minor": 0,
  "metadata": {
    "colab": {
      "provenance": [],
      "include_colab_link": true
    },
    "kernelspec": {
      "name": "python3",
      "display_name": "Python 3"
    },
    "language_info": {
      "name": "python"
    }
  },
  "cells": [
    {
      "cell_type": "markdown",
      "metadata": {
        "id": "view-in-github",
        "colab_type": "text"
      },
      "source": [
        "<a href=\"https://colab.research.google.com/github/PosgradoMNA/actividades-del-projecto-team-27/blob/main/Proyecto_final_Avance___1.ipynb\" target=\"_parent\"><img src=\"https://colab.research.google.com/assets/colab-badge.svg\" alt=\"Open In Colab\"/></a>"
      ]
    },
    {
      "cell_type": "markdown",
      "source": [
        "# **Banking Crisis and Exports Datasets**\n",
        "\n",
        "Organización que lo generó: The World Bank Development Research Group Trade and Integration Team\n",
        "\n",
        "Source: https://datacatalog.worldbank.org/search/dataset/0041188\n",
        "\n",
        "El dataset contiene datos económicos de las crisis bancarias que presentaron 23 bancos de diversos países, incluyendo países desarrollados y subdesarrollados, así mismo como datos de las exportaciones de ciertos sectores para el periodo de 1980-2007. \n",
        "\n",
        "Preguntas que podríamos resolver con el análisis profundo de este dataset:\n",
        "\n",
        "1.   ¿Qué productos/sectores dependen fuertemente del financimiento o servicios bancarios para la exportación?\n",
        "2.   ¿Hay algún sector que no influya en sus exportaciones las crisis bancarias?\n",
        "3.   ¿Qué relación tiene la demanda de productos cuando ocurren crisis financieras?\n",
        "4.   ¿Se puede predecir los volúmenes de exportaciones en escenarios de recesión/crisis económica?\n",
        "5.   ¿Las peores crisis financieras tienen mayor inferencia en las exportaciones vs crisis financieras no tan profundas?\n",
        "6.   ¿El impacto de las limitaciones financieras durante las crisis es mayor o menor en países con un PIB más alto?\n",
        "7.   ¿Todas las regiones tienen el mismo impacto en las exportaciones cuando hay alguna crisis bancaria o existe una gran diferencia en región vs otra?\n",
        "8.   ¿Qué tanta influencia tiene el GDP per capita con el volumen de exportaciones?\n",
        "\n",
        "Empresas que se verían benficiadas con este análisis serían principalmente empresas que importan productos y/o materia prima de diversos sectores, con esto ellas podrían prevenir el desabasto de productos y planear mejor su inventario. También los gobiernos de los países creemos que se verían beneficiados al tener información valiosa de posibles predicciones en escenarios económicos estrechos."
      ],
      "metadata": {
        "id": "72yrOrTE5sfH"
      }
    },
    {
      "cell_type": "code",
      "source": [
        "import pandas as pd\n",
        "import numpy  as np\n",
        "import xlrd\n",
        "import seaborn as sb\n",
        "import matplotlib.pyplot as plt\n",
        "from matplotlib.ticker import PercentFormatter"
      ],
      "metadata": {
        "id": "2IOMomnE6Uyx"
      },
      "execution_count": null,
      "outputs": []
    },
    {
      "cell_type": "code",
      "source": [
        "from google.colab import files"
      ],
      "metadata": {
        "id": "gW4bdhu865Ma"
      },
      "execution_count": null,
      "outputs": []
    },
    {
      "cell_type": "code",
      "source": [
        "from google.colab import drive\n",
        "drive.mount('/content/drive')"
      ],
      "metadata": {
        "colab": {
          "base_uri": "https://localhost:8080/"
        },
        "id": "zXacwmWd7CB5",
        "outputId": "a7cf8252-8996-4a26-c44d-cf9dc258ba89"
      },
      "execution_count": null,
      "outputs": [
        {
          "output_type": "stream",
          "name": "stdout",
          "text": [
            "Mounted at /content/drive\n"
          ]
        }
      ]
    },
    {
      "cell_type": "code",
      "source": [
        "import pandas as pd\n",
        "\n",
        "df = pd.read_csv('/content/drive/MyDrive/Ciencia_y_analitica_de_datos/Proyecto_final/BankingCrisisAndExportsDB.csv')\n",
        "\n",
        "print(df)"
      ],
      "metadata": {
        "id": "c1vRAa-E7Q_D",
        "outputId": "06a4cc48-e126-4f29-9850-ce09382a3043",
        "colab": {
          "base_uri": "https://localhost:8080/"
        }
      },
      "execution_count": null,
      "outputs": [
        {
          "output_type": "stream",
          "name": "stdout",
          "text": [
            "      exporter    year  product    tradevalue  tradeshare  expgrowth  \\\n",
            "0          ARG  1980.0     3111  1.095743e+06         NaN        NaN   \n",
            "1          ARG  1981.0     3111  1.053351e+06         NaN  -0.039456   \n",
            "2          ARG  1982.0     3111  8.524701e+05         NaN  -0.211594   \n",
            "3          ARG  1983.0     3111  6.446367e+05    0.252277  -0.279451   \n",
            "4          ARG  1984.0     3111  4.481481e+05    0.236616  -0.363563   \n",
            "...        ...     ...      ...           ...         ...        ...   \n",
            "39583      USA  2002.0     3909  7.635533e+06    0.014684  -0.027248   \n",
            "39584      USA  2003.0     3909  8.039191e+06    0.012614   0.051517   \n",
            "39585      USA  2004.0     3909  8.715190e+06    0.011960   0.080739   \n",
            "39586      USA  2005.0     3909  9.842128e+06    0.012334   0.121604   \n",
            "39587      USA  2006.0     3909  1.049364e+07    0.012530   0.064098   \n",
            "\n",
            "       expgrowthTRIM  BANK  BANK_W3  TWIN  ...       CCC  RZyoung  \\\n",
            "0                NaN   0.0        0   0.0  ...  0.425463     0.66   \n",
            "1          -0.039456   0.0        0   0.0  ...  0.425463     0.66   \n",
            "2          -0.211594   0.0        0   0.0  ...  0.425463     0.66   \n",
            "3          -0.279451   0.0        0   0.0  ...  0.425463     0.66   \n",
            "4          -0.363563   0.0        0   0.0  ...  0.425463     0.66   \n",
            "...              ...   ...      ...   ...  ...       ...      ...   \n",
            "39583      -0.027248   0.0        0   0.0  ...  1.405696     0.80   \n",
            "39584       0.051517   0.0        0   0.0  ...  1.405696     0.80   \n",
            "39585       0.080739   0.0        0   0.0  ...  1.405696     0.80   \n",
            "39586       0.121604   0.0        0   0.0  ...  1.405696     0.80   \n",
            "39587       0.064098   0.0        0   0.0  ...  1.405696     0.80   \n",
            "\n",
            "       rznoncrisis  caplab    rd  homogeneity      n   herf  intout  \\\n",
            "0             0.05   25.17  0.01          0.0  1.333  0.497   1.226   \n",
            "1             0.05   25.17  0.01          0.0  1.333  0.497   1.226   \n",
            "2             0.05   25.17  0.01          0.0  1.333  0.497   1.226   \n",
            "3             0.05   25.17  0.01          0.0  1.333  0.497   1.226   \n",
            "4             0.05   25.17  0.01          0.0  1.333  0.497   1.226   \n",
            "...            ...     ...   ...          ...    ...    ...     ...   \n",
            "39583         0.31   14.54  0.02          0.0  1.311  0.450   0.961   \n",
            "39584         0.31   14.54  0.02          0.0  1.311  0.450   0.961   \n",
            "39585         0.31   14.54  0.02          0.0  1.311  0.450   0.961   \n",
            "39586         0.31   14.54  0.02          0.0  1.311  0.450   0.961   \n",
            "39587         0.31   14.54  0.02          0.0  1.311  0.450   0.961   \n",
            "\n",
            "       contcrisis  \n",
            "0               0  \n",
            "1               0  \n",
            "2               0  \n",
            "3               0  \n",
            "4               0  \n",
            "...           ...  \n",
            "39583           0  \n",
            "39584           0  \n",
            "39585           0  \n",
            "39586           0  \n",
            "39587           0  \n",
            "\n",
            "[39588 rows x 44 columns]\n"
          ]
        }
      ]
    }
  ]
}